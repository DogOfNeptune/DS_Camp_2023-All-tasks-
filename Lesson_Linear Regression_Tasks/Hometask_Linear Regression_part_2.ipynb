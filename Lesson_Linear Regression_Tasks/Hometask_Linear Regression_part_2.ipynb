{
 "cells": [
  {
   "cell_type": "markdown",
   "metadata": {},
   "source": [
    "# Linear Regression: Ridge, Lasso, Normal Equation, Polynomial"
   ]
  },
  {
   "cell_type": "code",
   "execution_count": 30,
   "metadata": {},
   "outputs": [],
   "source": [
    "import matplotlib.pyplot as plt\n",
    "import pandas as pd \n",
    "import numpy as np \n",
    "from sklearn.model_selection import train_test_split\n",
    "%matplotlib inline"
   ]
  },
  {
   "cell_type": "markdown",
   "metadata": {},
   "source": [
    "### Load data set"
   ]
  },
  {
   "cell_type": "code",
   "execution_count": 31,
   "metadata": {},
   "outputs": [],
   "source": [
    "from sklearn.datasets import load_diabetes"
   ]
  },
  {
   "cell_type": "code",
   "execution_count": 32,
   "metadata": {},
   "outputs": [],
   "source": [
    "X, y = load_diabetes(return_X_y=True)\n",
    "X_train, X_test, y_train, y_test = train_test_split(X, y, random_state=2021)"
   ]
  },
  {
   "cell_type": "markdown",
   "metadata": {},
   "source": [
    "### Linear Regression"
   ]
  },
  {
   "cell_type": "code",
   "execution_count": 33,
   "metadata": {},
   "outputs": [
    {
     "name": "stdout",
     "output_type": "stream",
     "text": [
      "Linear Regression\n",
      "R2 train score = 0.5073693366380001\n",
      "R2 test score = 0.5281729599217632\n",
      "b: 148.9929089824379, \n",
      "w= [ -19.6849459  -240.17712443  557.92071086  251.49875073 -500.35528341\n",
      "  275.55002947  -11.62872458  154.0055582   651.15320811   77.51418657]\n"
     ]
    }
   ],
   "source": [
    "from sklearn.linear_model import LinearRegression\n",
    "\n",
    "model = LinearRegression()\n",
    "model.fit(X_train, y_train)\n",
    "\n",
    "print ('Linear Regression')\n",
    "print ('R2 train score =', model.score(X_train, y_train))\n",
    "print ('R2 test score =', model.score(X_test, y_test))\n",
    "print ('b: {}, \\nw= {}'.format(model.intercept_, model.coef_)) "
   ]
  },
  {
   "cell_type": "markdown",
   "metadata": {},
   "source": [
    "### Ridge Regression"
   ]
  },
  {
   "cell_type": "code",
   "execution_count": 34,
   "metadata": {},
   "outputs": [
    {
     "name": "stdout",
     "output_type": "stream",
     "text": [
      "\n",
      "Ridge Regression\n",
      "R2 train score = 0.50278907525409\n",
      "R2 test score = 0.5167115015287269\n",
      "b: 148.90239464357256, \n",
      "w= [  -5.89278439 -202.8940061   506.60039987  238.00225176  -33.74627935\n",
      "  -73.4320172  -189.46056347  124.11197302  424.22953672   95.01438958]\n"
     ]
    }
   ],
   "source": [
    "from sklearn.linear_model import Ridge\n",
    "\n",
    "model = Ridge(alpha=0.1)\n",
    "model.fit(X_train, y_train)\n",
    "\n",
    "print ('\\nRidge Regression')\n",
    "print ('R2 train score =', model.score(X_train, y_train))\n",
    "print ('R2 test score =', model.score(X_test, y_test))\n",
    "print ('b: {}, \\nw= {}'.format(model.intercept_, model.coef_))"
   ]
  },
  {
   "cell_type": "markdown",
   "metadata": {},
   "source": [
    "### Lasso Regression"
   ]
  },
  {
   "cell_type": "code",
   "execution_count": 35,
   "metadata": {},
   "outputs": [
    {
     "name": "stdout",
     "output_type": "stream",
     "text": [
      "\n",
      "Lasso Regression\n",
      "R2 train score = 0.5002251923582568\n",
      "R2 test score = 0.5052596255363273\n",
      "b: 148.84699235803652, \n",
      "w= [  -0.         -158.32488025  551.85840611  204.13106494   -0.\n",
      "   -8.9516938  -221.60017067    0.          471.41982975   40.57609765]\n"
     ]
    }
   ],
   "source": [
    "from sklearn.linear_model import Lasso\n",
    "\n",
    "model = Lasso(alpha=0.1)\n",
    "model.fit(X_train, y_train)\n",
    "\n",
    "print ('\\nLasso Regression')\n",
    "print ('R2 train score =', model.score(X_train, y_train))\n",
    "print ('R2 test score =', model.score(X_test, y_test))\n",
    "print ('b: {}, \\nw= {}'.format(model.intercept_, model.coef_))"
   ]
  },
  {
   "cell_type": "markdown",
   "metadata": {},
   "source": [
    "### Normal Equation"
   ]
  },
  {
   "cell_type": "code",
   "execution_count": 36,
   "metadata": {},
   "outputs": [
    {
     "name": "stdout",
     "output_type": "stream",
     "text": [
      "Solving linear regression using normal equation...\n",
      "b = 148.99290898243794\n",
      "w = [[ -19.6849459  -240.17712443  557.92071086  251.49875073 -500.35528341\n",
      "   275.55002947  -11.62872458  154.0055582   651.15320811   77.51418657]]\n",
      "\n",
      "Normal Equation\n",
      "R2 train score = 0.5073693366380001\n",
      "R2 test score = 0.5281729599217637\n"
     ]
    }
   ],
   "source": [
    "m, n = X_train.shape\n",
    "\n",
    "X_train_ext = np.c_[np.ones((m, 1)), X_train]\n",
    "X_test_ext = np.c_[np.ones((len(X_test), 1)), X_test]\n",
    "\n",
    "assert X_train_ext.shape == (m, n+1)\n",
    "assert X_test_ext.shape == (len(X_test), n+1)\n",
    "\n",
    "print ('Solving linear regression using normal equation...')\n",
    "params = np.linalg.inv(X_train_ext.T.dot(X_train_ext)).dot(X_train_ext.T).dot(y_train)\n",
    "\n",
    "b= params[0]\n",
    "print ('b =', b)\n",
    "w = params[1:].reshape(1, -1)\n",
    "print ('w =', w)\n",
    "\n",
    "z_train = X_train_ext.dot(params)\n",
    "z_test = X_test_ext.dot(params)\n",
    "\n",
    "from sklearn.metrics import r2_score\n",
    "print ('\\nNormal Equation')\n",
    "print ('R2 train score =', r2_score(y_train, z_train))\n",
    "print ('R2 test score =', r2_score(y_test, z_test))\n"
   ]
  },
  {
   "cell_type": "markdown",
   "metadata": {},
   "source": [
    "### Polynomial Regression"
   ]
  },
  {
   "cell_type": "code",
   "execution_count": 37,
   "metadata": {},
   "outputs": [
    {
     "name": "stdout",
     "output_type": "stream",
     "text": [
      "\n",
      "Polynomial Regression\n",
      "R2 train score = 0.6207810962295991\n",
      "R2 test score = 0.34722439867190724\n",
      "b: 55.745642107463766, \n",
      "w= [-1.72597567e-08  1.06137498e+02 -2.77244219e+02  5.11354358e+02\n",
      "  2.51478306e+02 -1.82518302e+04  1.59323845e+04  6.66445690e+03\n",
      "  1.74014774e+02  6.57536398e+03  9.66610282e+01  2.78325334e+03\n",
      "  3.85281468e+03 -1.53395915e+02  9.33380694e+02  7.84255464e+03\n",
      " -1.10762461e+04 -1.11174456e+03  2.01277652e+03  1.35040875e+03\n",
      " -1.10327017e+03 -1.67413429e+00  2.29828166e+03  2.55277891e+02\n",
      " -6.62033960e+02  1.81130613e+03  1.37538779e+02 -6.93403727e+03\n",
      "  1.68439720e+03  1.60179356e+03  1.15224299e+03  3.13930733e+03\n",
      " -8.23706391e+02  6.06446052e+02  9.05587243e+02 -1.25957240e+03\n",
      "  3.92326702e+02  7.84474860e+02 -3.72762355e+02  1.50641940e+04\n",
      " -1.23251806e+04 -3.94541792e+03  3.05725415e+03 -5.21151753e+03\n",
      " -2.22762962e+03  8.83280542e+04 -1.14624080e+05 -7.24321258e+04\n",
      " -3.63921143e+04 -2.64089121e+04 -4.87133850e+03  3.72219511e+04\n",
      "  4.48634626e+04  2.00114668e+04  1.20913439e+04  9.24913877e+02\n",
      "  1.31372359e+04  9.59115876e+03  1.12090903e+04  1.07482695e+04\n",
      "  3.89815589e+03  9.14000032e+03  8.77867792e+03  2.96364287e+04\n",
      "  3.13815886e+03  1.70557446e+03]\n"
     ]
    }
   ],
   "source": [
    "from sklearn.preprocessing import PolynomialFeatures\n",
    "\n",
    "poly = PolynomialFeatures(degree=2)\n",
    "X_train_poly = poly.fit_transform(X_train)\n",
    "X_test_poly = poly.transform(X_test)\n",
    "\n",
    "print ('\\nPolynomial Regression')\n",
    "model = LinearRegression()\n",
    "model.fit(X_train_poly, y_train)\n",
    "\n",
    "print ('R2 train score =', model.score(X_train_poly, y_train))\n",
    "print ('R2 test score =', model.score(X_test_poly, y_test))\n",
    "print ('b: {}, \\nw= {}'.format(model.intercept_, model.coef_))"
   ]
  }
 ],
 "metadata": {
  "kernelspec": {
   "display_name": "Python 3",
   "language": "python",
   "name": "python3"
  },
  "language_info": {
   "codemirror_mode": {
    "name": "ipython",
    "version": 3
   },
   "file_extension": ".py",
   "mimetype": "text/x-python",
   "name": "python",
   "nbconvert_exporter": "python",
   "pygments_lexer": "ipython3",
   "version": "3.10.11"
  }
 },
 "nbformat": 4,
 "nbformat_minor": 2
}
