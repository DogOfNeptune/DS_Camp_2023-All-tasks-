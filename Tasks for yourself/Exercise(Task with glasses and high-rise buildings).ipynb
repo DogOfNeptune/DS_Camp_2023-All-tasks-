{
 "cells": [
  {
   "cell_type": "markdown",
   "metadata": {},
   "source": [
    "# Task with glasses and high-rise buildings"
   ]
  },
  {
   "cell_type": "markdown",
   "metadata": {},
   "source": [
    "The basic idea is that we consider each repeatable test step on each surface. We have two possible cases:\n",
    "\n",
    "The glass breaks after being thrown. In this case, we must go to the bottom floor and continue to find the optimal number of throws on the remaining surfaces.\n",
    "\n",
    "The glass does not break after the throw. In this case, we must go to the same floor, but consider the number of residual surfaces to the left and right of the throwing point.\n",
    "\n",
    "The algorithm uses a binary search to find the optimal moment of glass breaking on each surface. Finding the minimum number of throws for each case allows us to dynamically build the solution matrix and obtain the optimal result."
   ]
  },
  {
   "cell_type": "code",
   "execution_count": 52,
   "metadata": {},
   "outputs": [],
   "source": [
    "def initialize_matrix(glass, floors):\n",
    "    min_throws_matrix = [[0] * (floors + 1) for _ in range(glass + 1)]\n",
    "    \n",
    "    for i in range(1, glass + 1):\n",
    "        min_throws_matrix[i][1] = 1\n",
    "        \n",
    "    for j in range(1, floors + 1):\n",
    "        min_throws_matrix[1][j] = j\n",
    "        \n",
    "    return min_throws_matrix\n"
   ]
  },
  {
   "cell_type": "code",
   "execution_count": 53,
   "metadata": {},
   "outputs": [],
   "source": [
    "def binary_search(min_throws_matrix, i, j):\n",
    "    low, high = 1, j\n",
    "    \n",
    "    while low <= high:\n",
    "        mid = (low + high) // 2\n",
    "        broken = min_throws_matrix[i - 1][mid - 1]\n",
    "        not_broken = min_throws_matrix[i][j - mid]\n",
    "        \n",
    "        if broken > not_broken:\n",
    "            high = mid - 1\n",
    "        else:\n",
    "            low = mid + 1\n",
    "            \n",
    "        min_throws_matrix[i][j] = min(min_throws_matrix[i][j], max(broken, not_broken) + 1)\n",
    "        \n",
    "    return min_throws_matrix"
   ]
  },
  {
   "cell_type": "code",
   "execution_count": 54,
   "metadata": {},
   "outputs": [],
   "source": [
    "def fill_matrix(min_throws_matrix, glass, floors):\n",
    "    for i in range(2, glass + 1):\n",
    "        for j in range(2, floors + 1):\n",
    "            min_throws_matrix[i][j] = float('inf')\n",
    "            min_throws_matrix = binary_search(min_throws_matrix, i, j)\n",
    "            \n",
    "    return min_throws_matrix"
   ]
  },
  {
   "cell_type": "code",
   "execution_count": 55,
   "metadata": {},
   "outputs": [],
   "source": [
    "def min_throws(floors, glass):\n",
    "    min_throws_matrix = initialize_matrix(glass, floors)\n",
    "    min_throws_matrix = fill_matrix(min_throws_matrix, glass, floors)\n",
    "    \n",
    "    return min_throws_matrix[glass][floors]"
   ]
  },
  {
   "cell_type": "markdown",
   "metadata": {},
   "source": [
    "### 100 floors and 2 glasses"
   ]
  },
  {
   "cell_type": "code",
   "execution_count": 56,
   "metadata": {},
   "outputs": [
    {
     "name": "stdout",
     "output_type": "stream",
     "text": [
      "Minimum number of throws to detect the floor where the glass breaks: 14\n"
     ]
    }
   ],
   "source": [
    "print('Minimum number of throws to detect the floor where the glass breaks:', min_throws(100, 2))"
   ]
  },
  {
   "cell_type": "markdown",
   "metadata": {},
   "source": [
    "### 1000 floors and 3 glasses"
   ]
  },
  {
   "cell_type": "code",
   "execution_count": 57,
   "metadata": {},
   "outputs": [
    {
     "name": "stdout",
     "output_type": "stream",
     "text": [
      "Minimum number of throws to detect the floor where the glass breaks: 19\n"
     ]
    }
   ],
   "source": [
    "print('Minimum number of throws to detect the floor where the glass breaks:', min_throws(1000, 3))"
   ]
  },
  {
   "cell_type": "markdown",
   "metadata": {},
   "source": [
    "### 1000 floors and 5 glasses"
   ]
  },
  {
   "cell_type": "code",
   "execution_count": 58,
   "metadata": {},
   "outputs": [
    {
     "name": "stdout",
     "output_type": "stream",
     "text": [
      "Minimum number of throws to detect the floor where the glass breaks: 11\n"
     ]
    }
   ],
   "source": [
    "print('Minimum number of throws to detect the floor where the glass breaks:', min_throws(1000, 5))"
   ]
  }
 ],
 "metadata": {
  "kernelspec": {
   "display_name": "Python 3",
   "language": "python",
   "name": "python3"
  },
  "language_info": {
   "codemirror_mode": {
    "name": "ipython",
    "version": 3
   },
   "file_extension": ".py",
   "mimetype": "text/x-python",
   "name": "python",
   "nbconvert_exporter": "python",
   "pygments_lexer": "ipython3",
   "version": "3.10.11"
  }
 },
 "nbformat": 4,
 "nbformat_minor": 2
}
